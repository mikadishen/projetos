{
  "cells": [
    {
      "cell_type": "markdown",
      "metadata": {
        "id": "hQvJ_kuylg_w"
      },
      "source": [
        "# Building Footprint Extraction for the USA\n",
        "\n",
        "[![image](https://colab.research.google.com/assets/colab-badge.svg)](https://colab.research.google.com/github/opengeos/geoai/blob/main/docs/examples/building_footprints_usa.ipynb)\n",
        "\n",
        "## Install package\n",
        "To use the `geoai-py` package, ensure it is installed in your environment. Uncomment the command below if needed."
      ]
    },
    {
      "cell_type": "markdown",
      "metadata": {
        "id": "e0TQkyLilg_1"
      },
      "source": [
        "## Import libraries"
      ]
    },
    {
      "cell_type": "code",
      "source": [
        "# %pip install geoai-py\n",
        "# Downgrade numpy to a version less than 2 to resolve compatibility issues\n",
        "!pip install numpy==1.26.4"
      ],
      "metadata": {
        "id": "4IOeuyDUz_Ir",
        "outputId": "94308611-f267-40c0-fb4d-e7b4615e6548",
        "colab": {
          "base_uri": "https://localhost:8080/"
        }
      },
      "execution_count": 14,
      "outputs": [
        {
          "output_type": "stream",
          "name": "stdout",
          "text": [
            "Collecting numpy==1.26.4\n",
            "  Using cached numpy-1.26.4-cp312-cp312-win_amd64.whl.metadata (61 kB)\n",
            "Using cached numpy-1.26.4-cp312-cp312-win_amd64.whl (15.5 MB)\n",
            "Installing collected packages: numpy\n",
            "  Attempting uninstall: numpy\n",
            "    Found existing installation: numpy 2.2.6\n",
            "    Uninstalling numpy-2.2.6:\n",
            "      Successfully uninstalled numpy-2.2.6\n",
            "Successfully installed numpy-1.26.4\n"
          ]
        },
        {
          "output_type": "stream",
          "name": "stderr",
          "text": [
            "  WARNING: Failed to remove contents in a temporary directory 'E:\\anaconda\\Lib\\site-packages\\~-mpy.libs'.\n",
            "  You can safely remove it manually.\n",
            "  WARNING: Failed to remove contents in a temporary directory 'E:\\anaconda\\Lib\\site-packages\\~-mpy'.\n",
            "  You can safely remove it manually.\n",
            "ERROR: pip's dependency resolver does not currently take into account all the packages that are installed. This behaviour is the source of the following dependency conflicts.\n",
            "buildingregulariser 0.2.2 requires numpy>=2.0.0, but you have numpy 1.26.4 which is incompatible.\n"
          ]
        }
      ]
    },
    {
      "cell_type": "code",
      "execution_count": 15,
      "metadata": {
        "colab": {
          "base_uri": "https://localhost:8080/"
        },
        "id": "5SnqeQwMlg_z",
        "outputId": "4d01dc5a-1c4a-4412-f868-b358719016ce"
      },
      "outputs": [
        {
          "output_type": "stream",
          "name": "stdout",
          "text": [
            "Requirement already satisfied: geoai-py in e:\\anaconda\\lib\\site-packages (0.6.0)\n",
            "Requirement already satisfied: albumentations in e:\\anaconda\\lib\\site-packages (from geoai-py) (2.0.8)\n",
            "Requirement already satisfied: buildingregulariser in e:\\anaconda\\lib\\site-packages (from geoai-py) (0.2.2)\n",
            "Requirement already satisfied: contextily in e:\\anaconda\\lib\\site-packages (from geoai-py) (1.6.2)\n",
            "Requirement already satisfied: geopandas in e:\\anaconda\\lib\\site-packages (from geoai-py) (1.0.1)\n",
            "Requirement already satisfied: huggingface_hub in e:\\anaconda\\lib\\site-packages (from geoai-py) (0.32.4)\n",
            "Requirement already satisfied: jupyter-server-proxy in e:\\anaconda\\lib\\site-packages (from geoai-py) (4.4.0)\n",
            "Requirement already satisfied: leafmap in e:\\anaconda\\lib\\site-packages (from geoai-py) (0.48.3)\n",
            "Requirement already satisfied: localtileserver in e:\\anaconda\\lib\\site-packages (from geoai-py) (0.10.6)\n",
            "Requirement already satisfied: mapclassify in e:\\anaconda\\lib\\site-packages (from geoai-py) (2.9.0)\n",
            "Requirement already satisfied: maplibre in e:\\anaconda\\lib\\site-packages (from geoai-py) (0.3.4)\n",
            "Requirement already satisfied: opencv-python-headless in c:\\users\\leandro.gregorio\\appdata\\roaming\\python\\python312\\site-packages (from geoai-py) (4.10.0.84)\n",
            "Requirement already satisfied: overturemaps in e:\\anaconda\\lib\\site-packages (from geoai-py) (0.14.0)\n",
            "Requirement already satisfied: planetary-computer in e:\\anaconda\\lib\\site-packages (from geoai-py) (1.0.0)\n",
            "Requirement already satisfied: pystac-client in e:\\anaconda\\lib\\site-packages (from geoai-py) (0.8.6)\n",
            "Requirement already satisfied: rasterio in c:\\users\\leandro.gregorio\\appdata\\roaming\\python\\python312\\site-packages (from geoai-py) (1.4.3)\n",
            "Requirement already satisfied: rioxarray in e:\\anaconda\\lib\\site-packages (from geoai-py) (0.19.0)\n",
            "Requirement already satisfied: scikit-image in c:\\users\\leandro.gregorio\\appdata\\roaming\\python\\python312\\site-packages (from geoai-py) (0.25.2)\n",
            "Requirement already satisfied: scikit-learn in c:\\users\\leandro.gregorio\\appdata\\roaming\\python\\python312\\site-packages (from geoai-py) (1.5.2)\n",
            "Requirement already satisfied: torch in c:\\users\\leandro.gregorio\\appdata\\roaming\\python\\python312\\site-packages (from geoai-py) (2.5.1)\n",
            "Requirement already satisfied: torchgeo in c:\\users\\leandro.gregorio\\appdata\\roaming\\python\\python312\\site-packages (from geoai-py) (0.6.2)\n",
            "Requirement already satisfied: torchinfo in e:\\anaconda\\lib\\site-packages (from geoai-py) (1.8.0)\n",
            "Requirement already satisfied: tqdm in c:\\users\\leandro.gregorio\\appdata\\roaming\\python\\python312\\site-packages (from geoai-py) (4.67.1)\n",
            "Requirement already satisfied: transformers in e:\\anaconda\\lib\\site-packages (from geoai-py) (4.52.4)\n",
            "Requirement already satisfied: numpy>=1.24.4 in e:\\anaconda\\lib\\site-packages (from albumentations->geoai-py) (1.26.4)\n",
            "Requirement already satisfied: scipy>=1.10.0 in e:\\anaconda\\lib\\site-packages (from albumentations->geoai-py) (1.13.1)\n",
            "Requirement already satisfied: PyYAML in e:\\anaconda\\lib\\site-packages (from albumentations->geoai-py) (6.0.1)\n",
            "Requirement already satisfied: pydantic>=2.9.2 in c:\\users\\leandro.gregorio\\appdata\\roaming\\python\\python312\\site-packages (from albumentations->geoai-py) (2.10.4)\n",
            "Requirement already satisfied: albucore==0.0.24 in e:\\anaconda\\lib\\site-packages (from albumentations->geoai-py) (0.0.24)\n",
            "Requirement already satisfied: stringzilla>=3.10.4 in c:\\users\\leandro.gregorio\\appdata\\roaming\\python\\python312\\site-packages (from albucore==0.0.24->albumentations->geoai-py) (3.11.3)\n",
            "Requirement already satisfied: simsimd>=5.9.2 in c:\\users\\leandro.gregorio\\appdata\\roaming\\python\\python312\\site-packages (from albucore==0.0.24->albumentations->geoai-py) (6.2.1)\n",
            "Requirement already satisfied: annotated-types>=0.6.0 in c:\\users\\leandro.gregorio\\appdata\\roaming\\python\\python312\\site-packages (from pydantic>=2.9.2->albumentations->geoai-py) (0.7.0)\n",
            "Requirement already satisfied: pydantic-core==2.27.2 in c:\\users\\leandro.gregorio\\appdata\\roaming\\python\\python312\\site-packages (from pydantic>=2.9.2->albumentations->geoai-py) (2.27.2)\n",
            "Requirement already satisfied: typing-extensions>=4.12.2 in c:\\users\\leandro.gregorio\\appdata\\roaming\\python\\python312\\site-packages (from pydantic>=2.9.2->albumentations->geoai-py) (4.12.2)\n",
            "Collecting numpy>=1.24.4 (from albumentations->geoai-py)\n",
            "  Using cached numpy-2.2.6-cp312-cp312-win_amd64.whl.metadata (60 kB)\n",
            "Requirement already satisfied: pyogrio>=0.7.2 in e:\\anaconda\\lib\\site-packages (from geopandas->geoai-py) (0.10.0)\n",
            "Requirement already satisfied: packaging in e:\\anaconda\\lib\\site-packages (from geopandas->geoai-py) (24.1)\n",
            "Requirement already satisfied: pandas>=1.4.0 in e:\\anaconda\\lib\\site-packages (from geopandas->geoai-py) (2.2.2)\n",
            "Requirement already satisfied: pyproj>=3.3.0 in e:\\anaconda\\lib\\site-packages (from geopandas->geoai-py) (3.7.1)\n",
            "Requirement already satisfied: shapely>=2.0.0 in e:\\anaconda\\lib\\site-packages (from geopandas->geoai-py) (2.1.0)\n",
            "Requirement already satisfied: python-dateutil>=2.8.2 in e:\\anaconda\\lib\\site-packages (from pandas>=1.4.0->geopandas->geoai-py) (2.9.0.post0)\n",
            "Requirement already satisfied: pytz>=2020.1 in e:\\anaconda\\lib\\site-packages (from pandas>=1.4.0->geopandas->geoai-py) (2024.1)\n",
            "Requirement already satisfied: tzdata>=2022.7 in e:\\anaconda\\lib\\site-packages (from pandas>=1.4.0->geopandas->geoai-py) (2023.3)\n",
            "Requirement already satisfied: certifi in e:\\anaconda\\lib\\site-packages (from pyogrio>=0.7.2->geopandas->geoai-py) (2025.4.26)\n",
            "Requirement already satisfied: six>=1.5 in e:\\anaconda\\lib\\site-packages (from python-dateutil>=2.8.2->pandas>=1.4.0->geopandas->geoai-py) (1.16.0)\n",
            "Requirement already satisfied: geopy in e:\\anaconda\\lib\\site-packages (from contextily->geoai-py) (2.4.1)\n",
            "Requirement already satisfied: matplotlib in e:\\anaconda\\lib\\site-packages (from contextily->geoai-py) (3.9.2)\n",
            "Requirement already satisfied: mercantile in e:\\anaconda\\lib\\site-packages (from contextily->geoai-py) (1.2.1)\n",
            "Requirement already satisfied: pillow in e:\\anaconda\\lib\\site-packages (from contextily->geoai-py) (10.4.0)\n",
            "Requirement already satisfied: requests in e:\\anaconda\\lib\\site-packages (from contextily->geoai-py) (2.32.3)\n",
            "Requirement already satisfied: joblib in c:\\users\\leandro.gregorio\\appdata\\roaming\\python\\python312\\site-packages (from contextily->geoai-py) (1.4.2)\n",
            "Requirement already satisfied: xyzservices in e:\\anaconda\\lib\\site-packages (from contextily->geoai-py) (2022.9.0)\n",
            "Requirement already satisfied: geographiclib<3,>=1.52 in e:\\anaconda\\lib\\site-packages (from geopy->contextily->geoai-py) (2.0)\n",
            "Requirement already satisfied: filelock in c:\\users\\leandro.gregorio\\appdata\\roaming\\python\\python312\\site-packages (from huggingface_hub->geoai-py) (3.16.1)\n",
            "Requirement already satisfied: fsspec>=2023.5.0 in c:\\users\\leandro.gregorio\\appdata\\roaming\\python\\python312\\site-packages (from huggingface_hub->geoai-py) (2024.12.0)\n",
            "Requirement already satisfied: colorama in c:\\users\\leandro.gregorio\\appdata\\roaming\\python\\python312\\site-packages (from tqdm->geoai-py) (0.4.6)\n",
            "Requirement already satisfied: aiohttp in c:\\users\\leandro.gregorio\\appdata\\roaming\\python\\python312\\site-packages (from jupyter-server-proxy->geoai-py) (3.11.11)\n",
            "Requirement already satisfied: jupyter-server>=1.24.0 in e:\\anaconda\\lib\\site-packages (from jupyter-server-proxy->geoai-py) (2.14.1)\n",
            "Requirement already satisfied: simpervisor>=1.0.0 in e:\\anaconda\\lib\\site-packages (from jupyter-server-proxy->geoai-py) (1.0.0)\n",
            "Requirement already satisfied: tornado>=6.1.0 in e:\\anaconda\\lib\\site-packages (from jupyter-server-proxy->geoai-py) (6.4.1)\n",
            "Requirement already satisfied: traitlets>=5.1.0 in c:\\users\\leandro.gregorio\\appdata\\roaming\\python\\python312\\site-packages (from jupyter-server-proxy->geoai-py) (5.14.3)\n",
            "Requirement already satisfied: anyio>=3.1.0 in c:\\users\\leandro.gregorio\\appdata\\roaming\\python\\python312\\site-packages (from jupyter-server>=1.24.0->jupyter-server-proxy->geoai-py) (4.9.0)\n",
            "Requirement already satisfied: argon2-cffi>=21.1 in e:\\anaconda\\lib\\site-packages (from jupyter-server>=1.24.0->jupyter-server-proxy->geoai-py) (21.3.0)\n",
            "Requirement already satisfied: jinja2>=3.0.3 in e:\\anaconda\\lib\\site-packages (from jupyter-server>=1.24.0->jupyter-server-proxy->geoai-py) (3.1.6)\n",
            "Requirement already satisfied: jupyter-client>=7.4.4 in e:\\anaconda\\lib\\site-packages (from jupyter-server>=1.24.0->jupyter-server-proxy->geoai-py) (8.6.0)\n",
            "Requirement already satisfied: jupyter-core!=5.0.*,>=4.12 in e:\\anaconda\\lib\\site-packages (from jupyter-server>=1.24.0->jupyter-server-proxy->geoai-py) (5.7.2)\n",
            "Requirement already satisfied: jupyter-events>=0.9.0 in e:\\anaconda\\lib\\site-packages (from jupyter-server>=1.24.0->jupyter-server-proxy->geoai-py) (0.10.0)\n",
            "Requirement already satisfied: jupyter-server-terminals>=0.4.4 in e:\\anaconda\\lib\\site-packages (from jupyter-server>=1.24.0->jupyter-server-proxy->geoai-py) (0.4.4)\n",
            "Requirement already satisfied: nbconvert>=6.4.4 in e:\\anaconda\\lib\\site-packages (from jupyter-server>=1.24.0->jupyter-server-proxy->geoai-py) (7.16.4)\n",
            "Requirement already satisfied: nbformat>=5.3.0 in e:\\anaconda\\lib\\site-packages (from jupyter-server>=1.24.0->jupyter-server-proxy->geoai-py) (5.10.4)\n",
            "Requirement already satisfied: overrides>=5.0 in e:\\anaconda\\lib\\site-packages (from jupyter-server>=1.24.0->jupyter-server-proxy->geoai-py) (7.4.0)\n",
            "Requirement already satisfied: prometheus-client>=0.9 in e:\\anaconda\\lib\\site-packages (from jupyter-server>=1.24.0->jupyter-server-proxy->geoai-py) (0.14.1)\n",
            "Requirement already satisfied: pywinpty>=2.0.1 in e:\\anaconda\\lib\\site-packages (from jupyter-server>=1.24.0->jupyter-server-proxy->geoai-py) (2.0.10)\n",
            "Requirement already satisfied: pyzmq>=24 in e:\\anaconda\\lib\\site-packages (from jupyter-server>=1.24.0->jupyter-server-proxy->geoai-py) (25.1.2)\n",
            "Requirement already satisfied: send2trash>=1.8.2 in e:\\anaconda\\lib\\site-packages (from jupyter-server>=1.24.0->jupyter-server-proxy->geoai-py) (1.8.2)\n",
            "Requirement already satisfied: terminado>=0.8.3 in e:\\anaconda\\lib\\site-packages (from jupyter-server>=1.24.0->jupyter-server-proxy->geoai-py) (0.17.1)\n",
            "Requirement already satisfied: websocket-client>=1.7 in e:\\anaconda\\lib\\site-packages (from jupyter-server>=1.24.0->jupyter-server-proxy->geoai-py) (1.8.0)\n",
            "Requirement already satisfied: idna>=2.8 in e:\\anaconda\\lib\\site-packages (from anyio>=3.1.0->jupyter-server>=1.24.0->jupyter-server-proxy->geoai-py) (3.7)\n",
            "Requirement already satisfied: sniffio>=1.1 in c:\\users\\leandro.gregorio\\appdata\\roaming\\python\\python312\\site-packages (from anyio>=3.1.0->jupyter-server>=1.24.0->jupyter-server-proxy->geoai-py) (1.3.1)\n",
            "Requirement already satisfied: argon2-cffi-bindings in e:\\anaconda\\lib\\site-packages (from argon2-cffi>=21.1->jupyter-server>=1.24.0->jupyter-server-proxy->geoai-py) (21.2.0)\n",
            "Requirement already satisfied: MarkupSafe>=2.0 in e:\\anaconda\\lib\\site-packages (from jinja2>=3.0.3->jupyter-server>=1.24.0->jupyter-server-proxy->geoai-py) (2.1.3)\n",
            "Requirement already satisfied: platformdirs>=2.5 in c:\\users\\leandro.gregorio\\appdata\\roaming\\python\\python312\\site-packages (from jupyter-core!=5.0.*,>=4.12->jupyter-server>=1.24.0->jupyter-server-proxy->geoai-py) (4.3.8)\n",
            "Requirement already satisfied: pywin32>=300 in e:\\anaconda\\lib\\site-packages (from jupyter-core!=5.0.*,>=4.12->jupyter-server>=1.24.0->jupyter-server-proxy->geoai-py) (305.1)\n",
            "Requirement already satisfied: jsonschema>=4.18.0 in e:\\anaconda\\lib\\site-packages (from jsonschema[format-nongpl]>=4.18.0->jupyter-events>=0.9.0->jupyter-server>=1.24.0->jupyter-server-proxy->geoai-py) (4.23.0)\n",
            "Requirement already satisfied: python-json-logger>=2.0.4 in e:\\anaconda\\lib\\site-packages (from jupyter-events>=0.9.0->jupyter-server>=1.24.0->jupyter-server-proxy->geoai-py) (2.0.7)\n",
            "Requirement already satisfied: referencing in e:\\anaconda\\lib\\site-packages (from jupyter-events>=0.9.0->jupyter-server>=1.24.0->jupyter-server-proxy->geoai-py) (0.30.2)\n",
            "Requirement already satisfied: rfc3339-validator in e:\\anaconda\\lib\\site-packages (from jupyter-events>=0.9.0->jupyter-server>=1.24.0->jupyter-server-proxy->geoai-py) (0.1.4)\n",
            "Requirement already satisfied: rfc3986-validator>=0.1.1 in e:\\anaconda\\lib\\site-packages (from jupyter-events>=0.9.0->jupyter-server>=1.24.0->jupyter-server-proxy->geoai-py) (0.1.1)\n",
            "Requirement already satisfied: attrs>=22.2.0 in c:\\users\\leandro.gregorio\\appdata\\roaming\\python\\python312\\site-packages (from jsonschema>=4.18.0->jsonschema[format-nongpl]>=4.18.0->jupyter-events>=0.9.0->jupyter-server>=1.24.0->jupyter-server-proxy->geoai-py) (24.2.0)\n",
            "Requirement already satisfied: jsonschema-specifications>=2023.03.6 in e:\\anaconda\\lib\\site-packages (from jsonschema>=4.18.0->jsonschema[format-nongpl]>=4.18.0->jupyter-events>=0.9.0->jupyter-server>=1.24.0->jupyter-server-proxy->geoai-py) (2023.7.1)\n",
            "Requirement already satisfied: rpds-py>=0.7.1 in e:\\anaconda\\lib\\site-packages (from jsonschema>=4.18.0->jsonschema[format-nongpl]>=4.18.0->jupyter-events>=0.9.0->jupyter-server>=1.24.0->jupyter-server-proxy->geoai-py) (0.10.6)\n",
            "Requirement already satisfied: fqdn in e:\\anaconda\\lib\\site-packages (from jsonschema[format-nongpl]>=4.18.0->jupyter-events>=0.9.0->jupyter-server>=1.24.0->jupyter-server-proxy->geoai-py) (1.5.1)\n",
            "Requirement already satisfied: isoduration in e:\\anaconda\\lib\\site-packages (from jsonschema[format-nongpl]>=4.18.0->jupyter-events>=0.9.0->jupyter-server>=1.24.0->jupyter-server-proxy->geoai-py) (20.11.0)\n",
            "Requirement already satisfied: jsonpointer>1.13 in c:\\users\\leandro.gregorio\\appdata\\roaming\\python\\python312\\site-packages (from jsonschema[format-nongpl]>=4.18.0->jupyter-events>=0.9.0->jupyter-server>=1.24.0->jupyter-server-proxy->geoai-py) (3.0.0)\n",
            "Requirement already satisfied: uri-template in e:\\anaconda\\lib\\site-packages (from jsonschema[format-nongpl]>=4.18.0->jupyter-events>=0.9.0->jupyter-server>=1.24.0->jupyter-server-proxy->geoai-py) (1.3.0)\n",
            "Requirement already satisfied: webcolors>=24.6.0 in e:\\anaconda\\lib\\site-packages (from jsonschema[format-nongpl]>=4.18.0->jupyter-events>=0.9.0->jupyter-server>=1.24.0->jupyter-server-proxy->geoai-py) (24.11.1)\n",
            "Requirement already satisfied: beautifulsoup4 in c:\\users\\leandro.gregorio\\appdata\\roaming\\python\\python312\\site-packages (from nbconvert>=6.4.4->jupyter-server>=1.24.0->jupyter-server-proxy->geoai-py) (4.13.3)\n",
            "Requirement already satisfied: bleach!=5.0.0 in e:\\anaconda\\lib\\site-packages (from nbconvert>=6.4.4->jupyter-server>=1.24.0->jupyter-server-proxy->geoai-py) (4.1.0)\n",
            "Requirement already satisfied: defusedxml in c:\\users\\leandro.gregorio\\appdata\\roaming\\python\\python312\\site-packages (from nbconvert>=6.4.4->jupyter-server>=1.24.0->jupyter-server-proxy->geoai-py) (0.7.1)\n",
            "Requirement already satisfied: jupyterlab-pygments in e:\\anaconda\\lib\\site-packages (from nbconvert>=6.4.4->jupyter-server>=1.24.0->jupyter-server-proxy->geoai-py) (0.1.2)\n",
            "Requirement already satisfied: mistune<4,>=2.0.3 in e:\\anaconda\\lib\\site-packages (from nbconvert>=6.4.4->jupyter-server>=1.24.0->jupyter-server-proxy->geoai-py) (2.0.4)\n",
            "Requirement already satisfied: nbclient>=0.5.0 in e:\\anaconda\\lib\\site-packages (from nbconvert>=6.4.4->jupyter-server>=1.24.0->jupyter-server-proxy->geoai-py) (0.8.0)\n",
            "Requirement already satisfied: pandocfilters>=1.4.1 in e:\\anaconda\\lib\\site-packages (from nbconvert>=6.4.4->jupyter-server>=1.24.0->jupyter-server-proxy->geoai-py) (1.5.0)\n",
            "Requirement already satisfied: pygments>=2.4.1 in e:\\anaconda\\lib\\site-packages (from nbconvert>=6.4.4->jupyter-server>=1.24.0->jupyter-server-proxy->geoai-py) (2.19.1)\n",
            "Requirement already satisfied: tinycss2 in e:\\anaconda\\lib\\site-packages (from nbconvert>=6.4.4->jupyter-server>=1.24.0->jupyter-server-proxy->geoai-py) (1.2.1)\n",
            "Requirement already satisfied: webencodings in e:\\anaconda\\lib\\site-packages (from bleach!=5.0.0->nbconvert>=6.4.4->jupyter-server>=1.24.0->jupyter-server-proxy->geoai-py) (0.5.1)\n",
            "Requirement already satisfied: fastjsonschema>=2.15 in e:\\anaconda\\lib\\site-packages (from nbformat>=5.3.0->jupyter-server>=1.24.0->jupyter-server-proxy->geoai-py) (2.16.2)\n",
            "Requirement already satisfied: aiohappyeyeballs>=2.3.0 in c:\\users\\leandro.gregorio\\appdata\\roaming\\python\\python312\\site-packages (from aiohttp->jupyter-server-proxy->geoai-py) (2.4.4)\n",
            "Requirement already satisfied: aiosignal>=1.1.2 in c:\\users\\leandro.gregorio\\appdata\\roaming\\python\\python312\\site-packages (from aiohttp->jupyter-server-proxy->geoai-py) (1.3.2)\n",
            "Requirement already satisfied: frozenlist>=1.1.1 in c:\\users\\leandro.gregorio\\appdata\\roaming\\python\\python312\\site-packages (from aiohttp->jupyter-server-proxy->geoai-py) (1.5.0)\n",
            "Requirement already satisfied: multidict<7.0,>=4.5 in c:\\users\\leandro.gregorio\\appdata\\roaming\\python\\python312\\site-packages (from aiohttp->jupyter-server-proxy->geoai-py) (6.1.0)\n",
            "Requirement already satisfied: propcache>=0.2.0 in c:\\users\\leandro.gregorio\\appdata\\roaming\\python\\python312\\site-packages (from aiohttp->jupyter-server-proxy->geoai-py) (0.2.1)\n",
            "Requirement already satisfied: yarl<2.0,>=1.17.0 in c:\\users\\leandro.gregorio\\appdata\\roaming\\python\\python312\\site-packages (from aiohttp->jupyter-server-proxy->geoai-py) (1.18.3)\n",
            "Requirement already satisfied: cffi>=1.0.1 in e:\\anaconda\\lib\\site-packages (from argon2-cffi-bindings->argon2-cffi>=21.1->jupyter-server>=1.24.0->jupyter-server-proxy->geoai-py) (1.17.1)\n",
            "Requirement already satisfied: pycparser in e:\\anaconda\\lib\\site-packages (from cffi>=1.0.1->argon2-cffi-bindings->argon2-cffi>=21.1->jupyter-server>=1.24.0->jupyter-server-proxy->geoai-py) (2.21)\n",
            "Requirement already satisfied: soupsieve>1.2 in c:\\users\\leandro.gregorio\\appdata\\roaming\\python\\python312\\site-packages (from beautifulsoup4->nbconvert>=6.4.4->jupyter-server>=1.24.0->jupyter-server-proxy->geoai-py) (2.6)\n",
            "Requirement already satisfied: arrow>=0.15.0 in e:\\anaconda\\lib\\site-packages (from isoduration->jsonschema[format-nongpl]>=4.18.0->jupyter-events>=0.9.0->jupyter-server>=1.24.0->jupyter-server-proxy->geoai-py) (1.2.3)\n",
            "Requirement already satisfied: anywidget in e:\\anaconda\\lib\\site-packages (from leafmap->geoai-py) (0.9.18)\n",
            "Requirement already satisfied: bqplot in e:\\anaconda\\lib\\site-packages (from leafmap->geoai-py) (0.12.45)\n",
            "Requirement already satisfied: duckdb in e:\\anaconda\\lib\\site-packages (from leafmap->geoai-py) (1.3.0)\n",
            "Requirement already satisfied: folium in e:\\anaconda\\lib\\site-packages (from leafmap->geoai-py) (0.19.7)\n",
            "Requirement already satisfied: gdown in c:\\users\\leandro.gregorio\\appdata\\roaming\\python\\python312\\site-packages (from leafmap->geoai-py) (5.2.0)\n",
            "Requirement already satisfied: geojson in e:\\anaconda\\lib\\site-packages (from leafmap->geoai-py) (3.2.0)\n",
            "Requirement already satisfied: ipyevents in e:\\anaconda\\lib\\site-packages (from leafmap->geoai-py) (2.0.2)\n",
            "Requirement already satisfied: ipyfilechooser in e:\\anaconda\\lib\\site-packages (from leafmap->geoai-py) (0.6.0)\n",
            "Requirement already satisfied: ipyleaflet in e:\\anaconda\\lib\\site-packages (from leafmap->geoai-py) (0.19.2)\n",
            "Requirement already satisfied: ipyvuetify in e:\\anaconda\\lib\\site-packages (from leafmap->geoai-py) (1.11.2)\n",
            "Requirement already satisfied: ipywidgets in e:\\anaconda\\lib\\site-packages (from leafmap->geoai-py) (7.8.1)\n",
            "Requirement already satisfied: plotly in e:\\anaconda\\lib\\site-packages (from leafmap->geoai-py) (5.24.1)\n",
            "Requirement already satisfied: python-box in e:\\anaconda\\lib\\site-packages (from leafmap->geoai-py) (7.3.2)\n",
            "Requirement already satisfied: scooby in e:\\anaconda\\lib\\site-packages (from leafmap->geoai-py) (0.10.1)\n",
            "Requirement already satisfied: whiteboxgui in e:\\anaconda\\lib\\site-packages (from leafmap->geoai-py) (2.3.0)\n",
            "Requirement already satisfied: psygnal>=0.8.1 in e:\\anaconda\\lib\\site-packages (from anywidget->leafmap->geoai-py) (0.13.0)\n",
            "Requirement already satisfied: comm>=0.1.3 in e:\\anaconda\\lib\\site-packages (from ipywidgets->leafmap->geoai-py) (0.2.1)\n",
            "Requirement already satisfied: ipython-genutils~=0.2.0 in e:\\anaconda\\lib\\site-packages (from ipywidgets->leafmap->geoai-py) (0.2.0)\n",
            "Requirement already satisfied: widgetsnbextension~=3.6.6 in e:\\anaconda\\lib\\site-packages (from ipywidgets->leafmap->geoai-py) (3.6.6)\n",
            "Requirement already satisfied: ipython>=4.0.0 in c:\\users\\leandro.gregorio\\appdata\\roaming\\python\\python312\\site-packages (from ipywidgets->leafmap->geoai-py) (8.32.0)\n",
            "Requirement already satisfied: jupyterlab-widgets<3,>=1.0.0 in e:\\anaconda\\lib\\site-packages (from ipywidgets->leafmap->geoai-py) (1.0.0)\n",
            "Requirement already satisfied: notebook>=4.4.1 in e:\\anaconda\\lib\\site-packages (from widgetsnbextension~=3.6.6->ipywidgets->leafmap->geoai-py) (7.2.2)\n",
            "Requirement already satisfied: decorator in c:\\users\\leandro.gregorio\\appdata\\roaming\\python\\python312\\site-packages (from ipython>=4.0.0->ipywidgets->leafmap->geoai-py) (5.1.1)\n",
            "Requirement already satisfied: jedi>=0.16 in c:\\users\\leandro.gregorio\\appdata\\roaming\\python\\python312\\site-packages (from ipython>=4.0.0->ipywidgets->leafmap->geoai-py) (0.19.2)\n",
            "Requirement already satisfied: matplotlib-inline in c:\\users\\leandro.gregorio\\appdata\\roaming\\python\\python312\\site-packages (from ipython>=4.0.0->ipywidgets->leafmap->geoai-py) (0.1.7)\n",
            "Requirement already satisfied: prompt_toolkit<3.1.0,>=3.0.41 in c:\\users\\leandro.gregorio\\appdata\\roaming\\python\\python312\\site-packages (from ipython>=4.0.0->ipywidgets->leafmap->geoai-py) (3.0.50)\n",
            "Requirement already satisfied: stack_data in c:\\users\\leandro.gregorio\\appdata\\roaming\\python\\python312\\site-packages (from ipython>=4.0.0->ipywidgets->leafmap->geoai-py) (0.6.3)\n",
            "Requirement already satisfied: wcwidth in c:\\users\\leandro.gregorio\\appdata\\roaming\\python\\python312\\site-packages (from prompt_toolkit<3.1.0,>=3.0.41->ipython>=4.0.0->ipywidgets->leafmap->geoai-py) (0.2.13)\n",
            "Requirement already satisfied: parso<0.9.0,>=0.8.4 in c:\\users\\leandro.gregorio\\appdata\\roaming\\python\\python312\\site-packages (from jedi>=0.16->ipython>=4.0.0->ipywidgets->leafmap->geoai-py) (0.8.4)\n",
            "Requirement already satisfied: jupyterlab-server<3,>=2.27.1 in e:\\anaconda\\lib\\site-packages (from notebook>=4.4.1->widgetsnbextension~=3.6.6->ipywidgets->leafmap->geoai-py) (2.27.3)\n",
            "Requirement already satisfied: jupyterlab<4.3,>=4.2.0 in e:\\anaconda\\lib\\site-packages (from notebook>=4.4.1->widgetsnbextension~=3.6.6->ipywidgets->leafmap->geoai-py) (4.2.5)\n",
            "Requirement already satisfied: notebook-shim<0.3,>=0.2 in e:\\anaconda\\lib\\site-packages (from notebook>=4.4.1->widgetsnbextension~=3.6.6->ipywidgets->leafmap->geoai-py) (0.2.3)\n",
            "Requirement already satisfied: async-lru>=1.0.0 in e:\\anaconda\\lib\\site-packages (from jupyterlab<4.3,>=4.2.0->notebook>=4.4.1->widgetsnbextension~=3.6.6->ipywidgets->leafmap->geoai-py) (2.0.4)\n",
            "Requirement already satisfied: httpx>=0.25.0 in c:\\users\\leandro.gregorio\\appdata\\roaming\\python\\python312\\site-packages (from jupyterlab<4.3,>=4.2.0->notebook>=4.4.1->widgetsnbextension~=3.6.6->ipywidgets->leafmap->geoai-py) (0.28.1)\n",
            "Requirement already satisfied: ipykernel>=6.5.0 in e:\\anaconda\\lib\\site-packages (from jupyterlab<4.3,>=4.2.0->notebook>=4.4.1->widgetsnbextension~=3.6.6->ipywidgets->leafmap->geoai-py) (6.28.0)\n",
            "Requirement already satisfied: jupyter-lsp>=2.0.0 in e:\\anaconda\\lib\\site-packages (from jupyterlab<4.3,>=4.2.0->notebook>=4.4.1->widgetsnbextension~=3.6.6->ipywidgets->leafmap->geoai-py) (2.2.0)\n",
            "Requirement already satisfied: setuptools>=40.1.0 in e:\\anaconda\\lib\\site-packages (from jupyterlab<4.3,>=4.2.0->notebook>=4.4.1->widgetsnbextension~=3.6.6->ipywidgets->leafmap->geoai-py) (75.1.0)\n",
            "Requirement already satisfied: babel>=2.10 in c:\\users\\leandro.gregorio\\appdata\\roaming\\python\\python312\\site-packages (from jupyterlab-server<3,>=2.27.1->notebook>=4.4.1->widgetsnbextension~=3.6.6->ipywidgets->leafmap->geoai-py) (2.17.0)\n",
            "Requirement already satisfied: json5>=0.9.0 in e:\\anaconda\\lib\\site-packages (from jupyterlab-server<3,>=2.27.1->notebook>=4.4.1->widgetsnbextension~=3.6.6->ipywidgets->leafmap->geoai-py) (0.9.6)\n",
            "Requirement already satisfied: httpcore==1.* in c:\\users\\leandro.gregorio\\appdata\\roaming\\python\\python312\\site-packages (from httpx>=0.25.0->jupyterlab<4.3,>=4.2.0->notebook>=4.4.1->widgetsnbextension~=3.6.6->ipywidgets->leafmap->geoai-py) (1.0.7)\n",
            "Requirement already satisfied: h11<0.15,>=0.13 in c:\\users\\leandro.gregorio\\appdata\\roaming\\python\\python312\\site-packages (from httpcore==1.*->httpx>=0.25.0->jupyterlab<4.3,>=4.2.0->notebook>=4.4.1->widgetsnbextension~=3.6.6->ipywidgets->leafmap->geoai-py) (0.14.0)\n",
            "Requirement already satisfied: debugpy>=1.6.5 in e:\\anaconda\\lib\\site-packages (from ipykernel>=6.5.0->jupyterlab<4.3,>=4.2.0->notebook>=4.4.1->widgetsnbextension~=3.6.6->ipywidgets->leafmap->geoai-py) (1.6.7)\n",
            "Requirement already satisfied: nest-asyncio in e:\\anaconda\\lib\\site-packages (from ipykernel>=6.5.0->jupyterlab<4.3,>=4.2.0->notebook>=4.4.1->widgetsnbextension~=3.6.6->ipywidgets->leafmap->geoai-py) (1.6.0)\n",
            "Requirement already satisfied: psutil in c:\\users\\leandro.gregorio\\appdata\\roaming\\python\\python312\\site-packages (from ipykernel>=6.5.0->jupyterlab<4.3,>=4.2.0->notebook>=4.4.1->widgetsnbextension~=3.6.6->ipywidgets->leafmap->geoai-py) (6.1.1)\n",
            "Requirement already satisfied: charset-normalizer<4,>=2 in e:\\anaconda\\lib\\site-packages (from requests->contextily->geoai-py) (3.3.2)\n",
            "Requirement already satisfied: urllib3<3,>=1.21.1 in e:\\anaconda\\lib\\site-packages (from requests->contextily->geoai-py) (2.2.3)\n",
            "Requirement already satisfied: traittypes>=0.0.6 in e:\\anaconda\\lib\\site-packages (from bqplot->leafmap->geoai-py) (0.2.1)\n",
            "Requirement already satisfied: branca>=0.6.0 in e:\\anaconda\\lib\\site-packages (from folium->leafmap->geoai-py) (0.8.1)\n",
            "Requirement already satisfied: jupyter-leaflet<0.20,>=0.19 in e:\\anaconda\\lib\\site-packages (from ipyleaflet->leafmap->geoai-py) (0.19.2)\n",
            "Requirement already satisfied: ipyvue<2,>=1.7 in e:\\anaconda\\lib\\site-packages (from ipyvuetify->leafmap->geoai-py) (1.11.2)\n",
            "Requirement already satisfied: click in c:\\users\\leandro.gregorio\\appdata\\roaming\\python\\python312\\site-packages (from localtileserver->geoai-py) (8.1.7)\n",
            "Requirement already satisfied: flask<4,>=2.0.0 in e:\\anaconda\\lib\\site-packages (from localtileserver->geoai-py) (3.0.3)\n",
            "Requirement already satisfied: Flask-Caching in e:\\anaconda\\lib\\site-packages (from localtileserver->geoai-py) (2.3.1)\n",
            "Requirement already satisfied: flask-cors in e:\\anaconda\\lib\\site-packages (from localtileserver->geoai-py) (6.0.0)\n",
            "Requirement already satisfied: flask-restx>=1.3.0 in e:\\anaconda\\lib\\site-packages (from localtileserver->geoai-py) (1.3.0)\n",
            "Requirement already satisfied: rio-tiler in e:\\anaconda\\lib\\site-packages (from localtileserver->geoai-py) (7.8.0)\n",
            "Requirement already satisfied: rio-cogeo in e:\\anaconda\\lib\\site-packages (from localtileserver->geoai-py) (5.4.1)\n",
            "Requirement already satisfied: server-thread in e:\\anaconda\\lib\\site-packages (from localtileserver->geoai-py) (0.3.0)\n",
            "Requirement already satisfied: werkzeug in e:\\anaconda\\lib\\site-packages (from localtileserver->geoai-py) (3.0.3)\n",
            "Requirement already satisfied: itsdangerous>=2.1.2 in e:\\anaconda\\lib\\site-packages (from flask<4,>=2.0.0->localtileserver->geoai-py) (2.2.0)\n",
            "Requirement already satisfied: blinker>=1.6.2 in e:\\anaconda\\lib\\site-packages (from flask<4,>=2.0.0->localtileserver->geoai-py) (1.6.2)\n",
            "Requirement already satisfied: aniso8601>=0.82 in e:\\anaconda\\lib\\site-packages (from flask-restx>=1.3.0->localtileserver->geoai-py) (10.0.1)\n",
            "Requirement already satisfied: importlib-resources in c:\\users\\leandro.gregorio\\appdata\\roaming\\python\\python312\\site-packages (from flask-restx>=1.3.0->localtileserver->geoai-py) (6.5.0)\n",
            "Requirement already satisfied: cachelib>=0.9.0 in e:\\anaconda\\lib\\site-packages (from Flask-Caching->localtileserver->geoai-py) (0.13.0)\n",
            "Requirement already satisfied: networkx>=3.2 in e:\\anaconda\\lib\\site-packages (from mapclassify->geoai-py) (3.3)\n",
            "Requirement already satisfied: threadpoolctl>=3.1.0 in c:\\users\\leandro.gregorio\\appdata\\roaming\\python\\python312\\site-packages (from scikit-learn->geoai-py) (3.5.0)\n",
            "Requirement already satisfied: eval-type-backport in e:\\anaconda\\lib\\site-packages (from maplibre->geoai-py) (0.2.2)\n",
            "Requirement already satisfied: contourpy>=1.0.1 in e:\\anaconda\\lib\\site-packages (from matplotlib->contextily->geoai-py) (1.3.2)\n",
            "Requirement already satisfied: cycler>=0.10 in e:\\anaconda\\lib\\site-packages (from matplotlib->contextily->geoai-py) (0.11.0)\n",
            "Requirement already satisfied: fonttools>=4.22.0 in e:\\anaconda\\lib\\site-packages (from matplotlib->contextily->geoai-py) (4.51.0)\n",
            "Requirement already satisfied: kiwisolver>=1.3.1 in e:\\anaconda\\lib\\site-packages (from matplotlib->contextily->geoai-py) (1.4.4)\n",
            "Requirement already satisfied: pyparsing>=2.3.1 in e:\\anaconda\\lib\\site-packages (from matplotlib->contextily->geoai-py) (3.1.2)\n",
            "Requirement already satisfied: pyarrow>=15.0.2 in e:\\anaconda\\lib\\site-packages (from overturemaps->geoai-py) (16.1.0)\n",
            "Requirement already satisfied: pystac>=1.0.0 in e:\\anaconda\\lib\\site-packages (from planetary-computer->geoai-py) (1.13.0)\n",
            "Requirement already satisfied: python-dotenv in c:\\users\\leandro.gregorio\\appdata\\roaming\\python\\python312\\site-packages (from planetary-computer->geoai-py) (1.1.0)\n",
            "Requirement already satisfied: tenacity>=6.2.0 in e:\\anaconda\\lib\\site-packages (from plotly->leafmap->geoai-py) (8.2.3)\n",
            "Requirement already satisfied: affine in c:\\users\\leandro.gregorio\\appdata\\roaming\\python\\python312\\site-packages (from rasterio->geoai-py) (2.4.0)\n",
            "Requirement already satisfied: cligj>=0.5 in c:\\users\\leandro.gregorio\\appdata\\roaming\\python\\python312\\site-packages (from rasterio->geoai-py) (0.7.2)\n",
            "Requirement already satisfied: click-plugins in c:\\users\\leandro.gregorio\\appdata\\roaming\\python\\python312\\site-packages (from rasterio->geoai-py) (1.1.1)\n",
            "Requirement already satisfied: PySocks!=1.5.7,>=1.5.6 in c:\\users\\leandro.gregorio\\appdata\\roaming\\python\\python312\\site-packages (from requests[socks]->gdown->leafmap->geoai-py) (1.7.1)\n",
            "Requirement already satisfied: morecantile<7.0,>=5.0 in e:\\anaconda\\lib\\site-packages (from rio-cogeo->localtileserver->geoai-py) (6.2.0)\n",
            "Requirement already satisfied: cachetools in c:\\users\\leandro.gregorio\\appdata\\roaming\\python\\python312\\site-packages (from rio-tiler->localtileserver->geoai-py) (5.5.2)\n",
            "Requirement already satisfied: color-operations in e:\\anaconda\\lib\\site-packages (from rio-tiler->localtileserver->geoai-py) (0.2.0)\n",
            "Requirement already satisfied: numexpr in c:\\users\\leandro.gregorio\\appdata\\roaming\\python\\python312\\site-packages (from rio-tiler->localtileserver->geoai-py) (2.10.2)\n",
            "Requirement already satisfied: xarray>=2024.7.0 in c:\\users\\leandro.gregorio\\appdata\\roaming\\python\\python312\\site-packages (from rioxarray->geoai-py) (2025.4.0)\n",
            "Requirement already satisfied: imageio!=2.35.0,>=2.33 in c:\\users\\leandro.gregorio\\appdata\\roaming\\python\\python312\\site-packages (from scikit-image->geoai-py) (2.37.0)\n",
            "Requirement already satisfied: tifffile>=2022.8.12 in c:\\users\\leandro.gregorio\\appdata\\roaming\\python\\python312\\site-packages (from scikit-image->geoai-py) (2025.3.30)\n",
            "Requirement already satisfied: lazy-loader>=0.4 in c:\\users\\leandro.gregorio\\appdata\\roaming\\python\\python312\\site-packages (from scikit-image->geoai-py) (0.4)\n",
            "Requirement already satisfied: uvicorn in e:\\anaconda\\lib\\site-packages (from server-thread->localtileserver->geoai-py) (0.34.3)\n",
            "Requirement already satisfied: executing>=1.2.0 in c:\\users\\leandro.gregorio\\appdata\\roaming\\python\\python312\\site-packages (from stack_data->ipython>=4.0.0->ipywidgets->leafmap->geoai-py) (2.2.0)\n",
            "Requirement already satisfied: asttokens>=2.1.0 in c:\\users\\leandro.gregorio\\appdata\\roaming\\python\\python312\\site-packages (from stack_data->ipython>=4.0.0->ipywidgets->leafmap->geoai-py) (3.0.0)\n",
            "Requirement already satisfied: pure-eval in c:\\users\\leandro.gregorio\\appdata\\roaming\\python\\python312\\site-packages (from stack_data->ipython>=4.0.0->ipywidgets->leafmap->geoai-py) (0.2.3)\n",
            "Requirement already satisfied: sympy==1.13.1 in c:\\users\\leandro.gregorio\\appdata\\roaming\\python\\python312\\site-packages (from torch->geoai-py) (1.13.1)\n",
            "Requirement already satisfied: mpmath<1.4,>=1.1.0 in c:\\users\\leandro.gregorio\\appdata\\roaming\\python\\python312\\site-packages (from sympy==1.13.1->torch->geoai-py) (1.3.0)\n",
            "Requirement already satisfied: einops>=0.3 in c:\\users\\leandro.gregorio\\appdata\\roaming\\python\\python312\\site-packages (from torchgeo->geoai-py) (0.8.0)\n",
            "Requirement already satisfied: fiona>=1.8.21 in c:\\users\\leandro.gregorio\\appdata\\roaming\\python\\python312\\site-packages (from torchgeo->geoai-py) (1.10.1)\n",
            "Requirement already satisfied: kornia>=0.7.3 in c:\\users\\leandro.gregorio\\appdata\\roaming\\python\\python312\\site-packages (from torchgeo->geoai-py) (0.7.4)\n",
            "Requirement already satisfied: lightly!=1.4.26,>=1.4.5 in c:\\users\\leandro.gregorio\\appdata\\roaming\\python\\python312\\site-packages (from torchgeo->geoai-py) (1.5.15)\n",
            "Requirement already satisfied: lightning!=2.3.*,>=2 in c:\\users\\leandro.gregorio\\appdata\\roaming\\python\\python312\\site-packages (from lightning[pytorch-extra]!=2.3.*,>=2->torchgeo->geoai-py) (2.5.0.post0)\n",
            "Requirement already satisfied: rtree>=1 in c:\\users\\leandro.gregorio\\appdata\\roaming\\python\\python312\\site-packages (from torchgeo->geoai-py) (1.3.0)\n",
            "Requirement already satisfied: segmentation-models-pytorch>=0.2 in c:\\users\\leandro.gregorio\\appdata\\roaming\\python\\python312\\site-packages (from torchgeo->geoai-py) (0.3.4)\n",
            "Requirement already satisfied: timm>=0.4.12 in c:\\users\\leandro.gregorio\\appdata\\roaming\\python\\python312\\site-packages (from torchgeo->geoai-py) (0.9.7)\n",
            "Requirement already satisfied: torchmetrics>=0.10 in c:\\users\\leandro.gregorio\\appdata\\roaming\\python\\python312\\site-packages (from torchgeo->geoai-py) (1.6.1)\n",
            "Requirement already satisfied: torchvision>=0.14 in c:\\users\\leandro.gregorio\\appdata\\roaming\\python\\python312\\site-packages (from torchgeo->geoai-py) (0.20.1)\n",
            "Requirement already satisfied: kornia-rs>=0.1.0 in c:\\users\\leandro.gregorio\\appdata\\roaming\\python\\python312\\site-packages (from kornia>=0.7.3->torchgeo->geoai-py) (0.1.8)\n",
            "Requirement already satisfied: hydra-core>=1.0.0 in c:\\users\\leandro.gregorio\\appdata\\roaming\\python\\python312\\site-packages (from lightly!=1.4.26,>=1.4.5->torchgeo->geoai-py) (1.3.2)\n",
            "Requirement already satisfied: lightly_utils~=0.0.0 in c:\\users\\leandro.gregorio\\appdata\\roaming\\python\\python312\\site-packages (from lightly!=1.4.26,>=1.4.5->torchgeo->geoai-py) (0.0.2)\n",
            "Requirement already satisfied: pytorch_lightning>=1.0.4 in c:\\users\\leandro.gregorio\\appdata\\roaming\\python\\python312\\site-packages (from lightly!=1.4.26,>=1.4.5->torchgeo->geoai-py) (2.5.0.post0)\n",
            "Requirement already satisfied: aenum>=3.1.11 in c:\\users\\leandro.gregorio\\appdata\\roaming\\python\\python312\\site-packages (from lightly!=1.4.26,>=1.4.5->torchgeo->geoai-py) (3.1.15)\n",
            "Requirement already satisfied: omegaconf<2.4,>=2.2 in c:\\users\\leandro.gregorio\\appdata\\roaming\\python\\python312\\site-packages (from hydra-core>=1.0.0->lightly!=1.4.26,>=1.4.5->torchgeo->geoai-py) (2.3.0)\n",
            "Requirement already satisfied: antlr4-python3-runtime==4.9.* in c:\\users\\leandro.gregorio\\appdata\\roaming\\python\\python312\\site-packages (from hydra-core>=1.0.0->lightly!=1.4.26,>=1.4.5->torchgeo->geoai-py) (4.9.3)\n",
            "Requirement already satisfied: lightning-utilities<2.0,>=0.10.0 in c:\\users\\leandro.gregorio\\appdata\\roaming\\python\\python312\\site-packages (from lightning!=2.3.*,>=2->lightning[pytorch-extra]!=2.3.*,>=2->torchgeo->geoai-py) (0.11.9)\n",
            "Requirement already satisfied: jsonargparse<5.0,>=4.27.7 in c:\\users\\leandro.gregorio\\appdata\\roaming\\python\\python312\\site-packages (from jsonargparse[signatures]<5.0,>=4.27.7; extra == \"pytorch-extra\"->lightning[pytorch-extra]!=2.3.*,>=2->torchgeo->geoai-py) (4.35.0)\n",
            "Requirement already satisfied: rich<14.0,>=12.3.0 in c:\\users\\leandro.gregorio\\appdata\\roaming\\python\\python312\\site-packages (from lightning[pytorch-extra]!=2.3.*,>=2->torchgeo->geoai-py) (13.9.4)\n",
            "Requirement already satisfied: tensorboardX<3.0,>=2.2 in c:\\users\\leandro.gregorio\\appdata\\roaming\\python\\python312\\site-packages (from lightning[pytorch-extra]!=2.3.*,>=2->torchgeo->geoai-py) (2.6.2.2)\n",
            "Requirement already satisfied: bitsandbytes<1.0,>=0.44.0 in c:\\users\\leandro.gregorio\\appdata\\roaming\\python\\python312\\site-packages (from lightning[pytorch-extra]!=2.3.*,>=2->torchgeo->geoai-py) (0.45.0)\n",
            "Requirement already satisfied: docstring-parser>=0.15 in c:\\users\\leandro.gregorio\\appdata\\roaming\\python\\python312\\site-packages (from jsonargparse[signatures]<5.0,>=4.27.7; extra == \"pytorch-extra\"->lightning[pytorch-extra]!=2.3.*,>=2->torchgeo->geoai-py) (0.16)\n",
            "Requirement already satisfied: typeshed-client>=2.1.0 in c:\\users\\leandro.gregorio\\appdata\\roaming\\python\\python312\\site-packages (from jsonargparse[signatures]<5.0,>=4.27.7; extra == \"pytorch-extra\"->lightning[pytorch-extra]!=2.3.*,>=2->torchgeo->geoai-py) (2.7.0)\n",
            "Requirement already satisfied: markdown-it-py>=2.2.0 in c:\\users\\leandro.gregorio\\appdata\\roaming\\python\\python312\\site-packages (from rich<14.0,>=12.3.0->lightning[pytorch-extra]!=2.3.*,>=2->torchgeo->geoai-py) (3.0.0)\n",
            "Requirement already satisfied: protobuf>=3.20 in c:\\users\\leandro.gregorio\\appdata\\roaming\\python\\python312\\site-packages (from tensorboardX<3.0,>=2.2->lightning[pytorch-extra]!=2.3.*,>=2->torchgeo->geoai-py) (4.21.12)\n",
            "Requirement already satisfied: mdurl~=0.1 in c:\\users\\leandro.gregorio\\appdata\\roaming\\python\\python312\\site-packages (from markdown-it-py>=2.2.0->rich<14.0,>=12.3.0->lightning[pytorch-extra]!=2.3.*,>=2->torchgeo->geoai-py) (0.1.2)\n",
            "Requirement already satisfied: efficientnet-pytorch==0.7.1 in c:\\users\\leandro.gregorio\\appdata\\roaming\\python\\python312\\site-packages (from segmentation-models-pytorch>=0.2->torchgeo->geoai-py) (0.7.1)\n",
            "Requirement already satisfied: pretrainedmodels==0.7.4 in c:\\users\\leandro.gregorio\\appdata\\roaming\\python\\python312\\site-packages (from segmentation-models-pytorch>=0.2->torchgeo->geoai-py) (0.7.4)\n",
            "Requirement already satisfied: munch in c:\\users\\leandro.gregorio\\appdata\\roaming\\python\\python312\\site-packages (from pretrainedmodels==0.7.4->segmentation-models-pytorch>=0.2->torchgeo->geoai-py) (4.0.0)\n",
            "Requirement already satisfied: safetensors in c:\\users\\leandro.gregorio\\appdata\\roaming\\python\\python312\\site-packages (from timm>=0.4.12->torchgeo->geoai-py) (0.5.0)\n",
            "Requirement already satisfied: regex!=2019.12.17 in c:\\users\\leandro.gregorio\\appdata\\roaming\\python\\python312\\site-packages (from transformers->geoai-py) (2024.11.6)\n",
            "Requirement already satisfied: tokenizers<0.22,>=0.21 in c:\\users\\leandro.gregorio\\appdata\\roaming\\python\\python312\\site-packages (from transformers->geoai-py) (0.21.1)\n",
            "Requirement already satisfied: ipytree in e:\\anaconda\\lib\\site-packages (from whiteboxgui->leafmap->geoai-py) (0.2.2)\n",
            "Requirement already satisfied: whitebox in e:\\anaconda\\lib\\site-packages (from whiteboxgui->leafmap->geoai-py) (2.3.6)\n",
            "Using cached numpy-2.2.6-cp312-cp312-win_amd64.whl (12.6 MB)\n",
            "Installing collected packages: numpy\n",
            "  Attempting uninstall: numpy\n",
            "    Found existing installation: numpy 1.26.4\n",
            "    Uninstalling numpy-1.26.4:\n",
            "      Successfully uninstalled numpy-1.26.4\n",
            "Successfully installed numpy-2.2.6\n",
            "Note: you may need to restart the kernel to use updated packages.\n"
          ]
        },
        {
          "output_type": "stream",
          "name": "stderr",
          "text": [
            "ERROR: pip's dependency resolver does not currently take into account all the packages that are installed. This behaviour is the source of the following dependency conflicts.\n",
            "gensim 4.3.3 requires numpy<2.0,>=1.18.5, but you have numpy 2.2.6 which is incompatible.\n",
            "numba 0.60.0 requires numpy<2.1,>=1.22, but you have numpy 2.2.6 which is incompatible.\n",
            "tensorflow 2.19.0 requires numpy<2.2.0,>=1.26.0, but you have numpy 2.2.6 which is incompatible.\n"
          ]
        }
      ],
      "source": [
        "%pip install geoai-py"
      ]
    },
    {
      "cell_type": "code",
      "execution_count": 16,
      "metadata": {
        "colab": {
          "base_uri": "https://localhost:8080/",
          "height": 1000
        },
        "id": "rOdVfgqMlg_1",
        "outputId": "ed46a249-a9d1-41dd-a2c0-8f01906da835"
      },
      "outputs": [
        {
          "output_type": "stream",
          "name": "stderr",
          "text": [
            "\n",
            "A module that was compiled using NumPy 1.x cannot be run in\n",
            "NumPy 2.2.6 as it may crash. To support both 1.x and 2.x\n",
            "versions of NumPy, modules must be compiled with NumPy 2.0.\n",
            "Some module may need to rebuild instead e.g. with 'pybind11>=2.12'.\n",
            "\n",
            "If you are a user of the module, the easiest solution will be to\n",
            "downgrade to 'numpy<2' or try to upgrade the affected module.\n",
            "We expect that some modules will need time to support NumPy 2.\n",
            "\n",
            "Traceback (most recent call last):  File \"<frozen runpy>\", line 198, in _run_module_as_main\n",
            "  File \"<frozen runpy>\", line 88, in _run_code\n",
            "  File \"E:\\anaconda\\Lib\\site-packages\\ipykernel_launcher.py\", line 17, in <module>\n",
            "    app.launch_new_instance()\n",
            "  File \"C:\\Users\\leandro.gregorio\\AppData\\Roaming\\Python\\Python312\\site-packages\\traitlets\\config\\application.py\", line 1075, in launch_instance\n",
            "    app.start()\n",
            "  File \"E:\\anaconda\\Lib\\site-packages\\ipykernel\\kernelapp.py\", line 701, in start\n",
            "    self.io_loop.start()\n",
            "  File \"E:\\anaconda\\Lib\\site-packages\\tornado\\platform\\asyncio.py\", line 205, in start\n",
            "    self.asyncio_loop.run_forever()\n",
            "  File \"E:\\anaconda\\Lib\\asyncio\\windows_events.py\", line 322, in run_forever\n",
            "    super().run_forever()\n",
            "  File \"E:\\anaconda\\Lib\\asyncio\\base_events.py\", line 641, in run_forever\n",
            "    self._run_once()\n",
            "  File \"E:\\anaconda\\Lib\\asyncio\\base_events.py\", line 1986, in _run_once\n",
            "    handle._run()\n",
            "  File \"E:\\anaconda\\Lib\\asyncio\\events.py\", line 88, in _run\n",
            "    self._context.run(self._callback, *self._args)\n",
            "  File \"E:\\anaconda\\Lib\\site-packages\\ipykernel\\kernelbase.py\", line 534, in dispatch_queue\n",
            "    await self.process_one()\n",
            "  File \"E:\\anaconda\\Lib\\site-packages\\ipykernel\\kernelbase.py\", line 523, in process_one\n",
            "    await dispatch(*args)\n",
            "  File \"E:\\anaconda\\Lib\\site-packages\\ipykernel\\kernelbase.py\", line 429, in dispatch_shell\n",
            "    await result\n",
            "  File \"E:\\anaconda\\Lib\\site-packages\\ipykernel\\kernelbase.py\", line 767, in execute_request\n",
            "    reply_content = await reply_content\n",
            "  File \"E:\\anaconda\\Lib\\site-packages\\ipykernel\\ipkernel.py\", line 429, in do_execute\n",
            "    res = shell.run_cell(\n",
            "  File \"E:\\anaconda\\Lib\\site-packages\\ipykernel\\zmqshell.py\", line 549, in run_cell\n",
            "    return super().run_cell(*args, **kwargs)\n",
            "  File \"C:\\Users\\leandro.gregorio\\AppData\\Roaming\\Python\\Python312\\site-packages\\IPython\\core\\interactiveshell.py\", line 3077, in run_cell\n",
            "    result = self._run_cell(\n",
            "  File \"C:\\Users\\leandro.gregorio\\AppData\\Roaming\\Python\\Python312\\site-packages\\IPython\\core\\interactiveshell.py\", line 3132, in _run_cell\n",
            "    result = runner(coro)\n",
            "  File \"C:\\Users\\leandro.gregorio\\AppData\\Roaming\\Python\\Python312\\site-packages\\IPython\\core\\async_helpers.py\", line 128, in _pseudo_sync_runner\n",
            "    coro.send(None)\n",
            "  File \"C:\\Users\\leandro.gregorio\\AppData\\Roaming\\Python\\Python312\\site-packages\\IPython\\core\\interactiveshell.py\", line 3336, in run_cell_async\n",
            "    has_raised = await self.run_ast_nodes(code_ast.body, cell_name,\n",
            "  File \"C:\\Users\\leandro.gregorio\\AppData\\Roaming\\Python\\Python312\\site-packages\\IPython\\core\\interactiveshell.py\", line 3519, in run_ast_nodes\n",
            "    if await self.run_code(code, result, async_=asy):\n",
            "  File \"C:\\Users\\leandro.gregorio\\AppData\\Roaming\\Python\\Python312\\site-packages\\IPython\\core\\interactiveshell.py\", line 3579, in run_code\n",
            "    exec(code_obj, self.user_global_ns, self.user_ns)\n",
            "  File \"C:\\Users\\leandro.gregorio\\AppData\\Local\\Temp\\ipykernel_18192\\76862300.py\", line 1, in <module>\n",
            "    import geoai\n",
            "  File \"E:\\anaconda\\Lib\\site-packages\\geoai\\__init__.py\", line 102, in <module>\n",
            "    from .geoai import *\n",
            "  File \"E:\\anaconda\\Lib\\site-packages\\geoai\\geoai.py\", line 7, in <module>\n",
            "    import leafmap\n",
            "  File \"E:\\anaconda\\Lib\\site-packages\\leafmap\\__init__.py\", line 142, in <module>\n",
            "    from .leafmap import *\n",
            "  File \"E:\\anaconda\\Lib\\site-packages\\leafmap\\leafmap.py\", line 8, in <module>\n",
            "    import pandas as pd\n",
            "  File \"E:\\anaconda\\Lib\\site-packages\\pandas\\__init__.py\", line 49, in <module>\n",
            "    from pandas.core.api import (\n",
            "  File \"E:\\anaconda\\Lib\\site-packages\\pandas\\core\\api.py\", line 1, in <module>\n",
            "    from pandas._libs import (\n",
            "  File \"E:\\anaconda\\Lib\\site-packages\\pandas\\_libs\\__init__.py\", line 17, in <module>\n",
            "    import pandas._libs.pandas_datetime  # noqa: F401 # isort: skip # type: ignore[reportUnusedImport]\n"
          ]
        },
        {
          "output_type": "error",
          "ename": "ImportError",
          "evalue": "\nA module that was compiled using NumPy 1.x cannot be run in\nNumPy 2.2.6 as it may crash. To support both 1.x and 2.x\nversions of NumPy, modules must be compiled with NumPy 2.0.\nSome module may need to rebuild instead e.g. with 'pybind11>=2.12'.\n\nIf you are a user of the module, the easiest solution will be to\ndowngrade to 'numpy<2' or try to upgrade the affected module.\nWe expect that some modules will need time to support NumPy 2.\n\n",
          "traceback": [
            "\u001b[1;31m---------------------------------------------------------------------------\u001b[0m",
            "\u001b[1;31mImportError\u001b[0m                               Traceback (most recent call last)",
            "File \u001b[1;32mE:\\anaconda\\Lib\\site-packages\\numpy\\core\\_multiarray_umath.py:44\u001b[0m, in \u001b[0;36m__getattr__\u001b[1;34m(attr_name)\u001b[0m\n\u001b[0;32m     39\u001b[0m     \u001b[38;5;66;03m# Also print the message (with traceback).  This is because old versions\u001b[39;00m\n\u001b[0;32m     40\u001b[0m     \u001b[38;5;66;03m# of NumPy unfortunately set up the import to replace (and hide) the\u001b[39;00m\n\u001b[0;32m     41\u001b[0m     \u001b[38;5;66;03m# error.  The traceback shouldn't be needed, but e.g. pytest plugins\u001b[39;00m\n\u001b[0;32m     42\u001b[0m     \u001b[38;5;66;03m# seem to swallow it and we should be failing anyway...\u001b[39;00m\n\u001b[0;32m     43\u001b[0m     sys\u001b[38;5;241m.\u001b[39mstderr\u001b[38;5;241m.\u001b[39mwrite(msg \u001b[38;5;241m+\u001b[39m tb_msg)\n\u001b[1;32m---> 44\u001b[0m     \u001b[38;5;28;01mraise\u001b[39;00m \u001b[38;5;167;01mImportError\u001b[39;00m(msg)\n\u001b[0;32m     46\u001b[0m ret \u001b[38;5;241m=\u001b[39m \u001b[38;5;28mgetattr\u001b[39m(_multiarray_umath, attr_name, \u001b[38;5;28;01mNone\u001b[39;00m)\n\u001b[0;32m     47\u001b[0m \u001b[38;5;28;01mif\u001b[39;00m ret \u001b[38;5;129;01mis\u001b[39;00m \u001b[38;5;28;01mNone\u001b[39;00m:\n",
            "\u001b[1;31mImportError\u001b[0m: \nA module that was compiled using NumPy 1.x cannot be run in\nNumPy 2.2.6 as it may crash. To support both 1.x and 2.x\nversions of NumPy, modules must be compiled with NumPy 2.0.\nSome module may need to rebuild instead e.g. with 'pybind11>=2.12'.\n\nIf you are a user of the module, the easiest solution will be to\ndowngrade to 'numpy<2' or try to upgrade the affected module.\nWe expect that some modules will need time to support NumPy 2.\n\n"
          ]
        },
        {
          "output_type": "stream",
          "name": "stdout",
          "text": [
            "Please restart Jupyter kernel after installation if you encounter any errors when importing leafmap.\n"
          ]
        },
        {
          "output_type": "error",
          "ename": "Exception",
          "evalue": "numpy.core.multiarray failed to import",
          "traceback": [
            "\u001b[1;31m---------------------------------------------------------------------------\u001b[0m",
            "\u001b[1;31mImportError\u001b[0m                               Traceback (most recent call last)",
            "File \u001b[1;32mE:\\anaconda\\Lib\\site-packages\\leafmap\\__init__.py:142\u001b[0m\n\u001b[0;32m    141\u001b[0m \u001b[38;5;28;01mtry\u001b[39;00m:\n\u001b[1;32m--> 142\u001b[0m     \u001b[38;5;28;01mfrom\u001b[39;00m\u001b[38;5;250m \u001b[39m\u001b[38;5;21;01m.\u001b[39;00m\u001b[38;5;21;01mleafmap\u001b[39;00m\u001b[38;5;250m \u001b[39m\u001b[38;5;28;01mimport\u001b[39;00m \u001b[38;5;241m*\u001b[39m\n\u001b[0;32m    143\u001b[0m \u001b[38;5;28;01mexcept\u001b[39;00m \u001b[38;5;167;01mException\u001b[39;00m \u001b[38;5;28;01mas\u001b[39;00m e:\n",
            "File \u001b[1;32mE:\\anaconda\\Lib\\site-packages\\leafmap\\leafmap.py:8\u001b[0m\n\u001b[0;32m      7\u001b[0m \u001b[38;5;28;01mimport\u001b[39;00m\u001b[38;5;250m \u001b[39m\u001b[38;5;21;01mipywidgets\u001b[39;00m\u001b[38;5;250m \u001b[39m\u001b[38;5;28;01mas\u001b[39;00m\u001b[38;5;250m \u001b[39m\u001b[38;5;21;01mwidgets\u001b[39;00m\n\u001b[1;32m----> 8\u001b[0m \u001b[38;5;28;01mimport\u001b[39;00m\u001b[38;5;250m \u001b[39m\u001b[38;5;21;01mpandas\u001b[39;00m\u001b[38;5;250m \u001b[39m\u001b[38;5;28;01mas\u001b[39;00m\u001b[38;5;250m \u001b[39m\u001b[38;5;21;01mpd\u001b[39;00m\n\u001b[0;32m     10\u001b[0m \u001b[38;5;28;01mfrom\u001b[39;00m\u001b[38;5;250m \u001b[39m\u001b[38;5;21;01mbox\u001b[39;00m\u001b[38;5;250m \u001b[39m\u001b[38;5;28;01mimport\u001b[39;00m Box\n",
            "File \u001b[1;32mE:\\anaconda\\Lib\\site-packages\\pandas\\__init__.py:49\u001b[0m\n\u001b[0;32m     47\u001b[0m \u001b[38;5;28;01mimport\u001b[39;00m\u001b[38;5;250m \u001b[39m\u001b[38;5;21;01mpandas\u001b[39;00m\u001b[38;5;21;01m.\u001b[39;00m\u001b[38;5;21;01mcore\u001b[39;00m\u001b[38;5;21;01m.\u001b[39;00m\u001b[38;5;21;01mconfig_init\u001b[39;00m  \u001b[38;5;66;03m# pyright: ignore[reportUnusedImport] # noqa: F401\u001b[39;00m\n\u001b[1;32m---> 49\u001b[0m \u001b[38;5;28;01mfrom\u001b[39;00m\u001b[38;5;250m \u001b[39m\u001b[38;5;21;01mpandas\u001b[39;00m\u001b[38;5;21;01m.\u001b[39;00m\u001b[38;5;21;01mcore\u001b[39;00m\u001b[38;5;21;01m.\u001b[39;00m\u001b[38;5;21;01mapi\u001b[39;00m\u001b[38;5;250m \u001b[39m\u001b[38;5;28;01mimport\u001b[39;00m (\n\u001b[0;32m     50\u001b[0m     \u001b[38;5;66;03m# dtype\u001b[39;00m\n\u001b[0;32m     51\u001b[0m     ArrowDtype,\n\u001b[0;32m     52\u001b[0m     Int8Dtype,\n\u001b[0;32m     53\u001b[0m     Int16Dtype,\n\u001b[0;32m     54\u001b[0m     Int32Dtype,\n\u001b[0;32m     55\u001b[0m     Int64Dtype,\n\u001b[0;32m     56\u001b[0m     UInt8Dtype,\n\u001b[0;32m     57\u001b[0m     UInt16Dtype,\n\u001b[0;32m     58\u001b[0m     UInt32Dtype,\n\u001b[0;32m     59\u001b[0m     UInt64Dtype,\n\u001b[0;32m     60\u001b[0m     Float32Dtype,\n\u001b[0;32m     61\u001b[0m     Float64Dtype,\n\u001b[0;32m     62\u001b[0m     CategoricalDtype,\n\u001b[0;32m     63\u001b[0m     PeriodDtype,\n\u001b[0;32m     64\u001b[0m     IntervalDtype,\n\u001b[0;32m     65\u001b[0m     DatetimeTZDtype,\n\u001b[0;32m     66\u001b[0m     StringDtype,\n\u001b[0;32m     67\u001b[0m     BooleanDtype,\n\u001b[0;32m     68\u001b[0m     \u001b[38;5;66;03m# missing\u001b[39;00m\n\u001b[0;32m     69\u001b[0m     NA,\n\u001b[0;32m     70\u001b[0m     isna,\n\u001b[0;32m     71\u001b[0m     isnull,\n\u001b[0;32m     72\u001b[0m     notna,\n\u001b[0;32m     73\u001b[0m     notnull,\n\u001b[0;32m     74\u001b[0m     \u001b[38;5;66;03m# indexes\u001b[39;00m\n\u001b[0;32m     75\u001b[0m     Index,\n\u001b[0;32m     76\u001b[0m     CategoricalIndex,\n\u001b[0;32m     77\u001b[0m     RangeIndex,\n\u001b[0;32m     78\u001b[0m     MultiIndex,\n\u001b[0;32m     79\u001b[0m     IntervalIndex,\n\u001b[0;32m     80\u001b[0m     TimedeltaIndex,\n\u001b[0;32m     81\u001b[0m     DatetimeIndex,\n\u001b[0;32m     82\u001b[0m     PeriodIndex,\n\u001b[0;32m     83\u001b[0m     IndexSlice,\n\u001b[0;32m     84\u001b[0m     \u001b[38;5;66;03m# tseries\u001b[39;00m\n\u001b[0;32m     85\u001b[0m     NaT,\n\u001b[0;32m     86\u001b[0m     Period,\n\u001b[0;32m     87\u001b[0m     period_range,\n\u001b[0;32m     88\u001b[0m     Timedelta,\n\u001b[0;32m     89\u001b[0m     timedelta_range,\n\u001b[0;32m     90\u001b[0m     Timestamp,\n\u001b[0;32m     91\u001b[0m     date_range,\n\u001b[0;32m     92\u001b[0m     bdate_range,\n\u001b[0;32m     93\u001b[0m     Interval,\n\u001b[0;32m     94\u001b[0m     interval_range,\n\u001b[0;32m     95\u001b[0m     DateOffset,\n\u001b[0;32m     96\u001b[0m     \u001b[38;5;66;03m# conversion\u001b[39;00m\n\u001b[0;32m     97\u001b[0m     to_numeric,\n\u001b[0;32m     98\u001b[0m     to_datetime,\n\u001b[0;32m     99\u001b[0m     to_timedelta,\n\u001b[0;32m    100\u001b[0m     \u001b[38;5;66;03m# misc\u001b[39;00m\n\u001b[0;32m    101\u001b[0m     Flags,\n\u001b[0;32m    102\u001b[0m     Grouper,\n\u001b[0;32m    103\u001b[0m     factorize,\n\u001b[0;32m    104\u001b[0m     unique,\n\u001b[0;32m    105\u001b[0m     value_counts,\n\u001b[0;32m    106\u001b[0m     NamedAgg,\n\u001b[0;32m    107\u001b[0m     array,\n\u001b[0;32m    108\u001b[0m     Categorical,\n\u001b[0;32m    109\u001b[0m     set_eng_float_format,\n\u001b[0;32m    110\u001b[0m     Series,\n\u001b[0;32m    111\u001b[0m     DataFrame,\n\u001b[0;32m    112\u001b[0m )\n\u001b[0;32m    114\u001b[0m \u001b[38;5;28;01mfrom\u001b[39;00m\u001b[38;5;250m \u001b[39m\u001b[38;5;21;01mpandas\u001b[39;00m\u001b[38;5;21;01m.\u001b[39;00m\u001b[38;5;21;01mcore\u001b[39;00m\u001b[38;5;21;01m.\u001b[39;00m\u001b[38;5;21;01mdtypes\u001b[39;00m\u001b[38;5;21;01m.\u001b[39;00m\u001b[38;5;21;01mdtypes\u001b[39;00m\u001b[38;5;250m \u001b[39m\u001b[38;5;28;01mimport\u001b[39;00m SparseDtype\n",
            "File \u001b[1;32mE:\\anaconda\\Lib\\site-packages\\pandas\\core\\api.py:1\u001b[0m\n\u001b[1;32m----> 1\u001b[0m \u001b[38;5;28;01mfrom\u001b[39;00m\u001b[38;5;250m \u001b[39m\u001b[38;5;21;01mpandas\u001b[39;00m\u001b[38;5;21;01m.\u001b[39;00m\u001b[38;5;21;01m_libs\u001b[39;00m\u001b[38;5;250m \u001b[39m\u001b[38;5;28;01mimport\u001b[39;00m (\n\u001b[0;32m      2\u001b[0m     NaT,\n\u001b[0;32m      3\u001b[0m     Period,\n\u001b[0;32m      4\u001b[0m     Timedelta,\n\u001b[0;32m      5\u001b[0m     Timestamp,\n\u001b[0;32m      6\u001b[0m )\n\u001b[0;32m      7\u001b[0m \u001b[38;5;28;01mfrom\u001b[39;00m\u001b[38;5;250m \u001b[39m\u001b[38;5;21;01mpandas\u001b[39;00m\u001b[38;5;21;01m.\u001b[39;00m\u001b[38;5;21;01m_libs\u001b[39;00m\u001b[38;5;21;01m.\u001b[39;00m\u001b[38;5;21;01mmissing\u001b[39;00m\u001b[38;5;250m \u001b[39m\u001b[38;5;28;01mimport\u001b[39;00m NA\n",
            "File \u001b[1;32mE:\\anaconda\\Lib\\site-packages\\pandas\\_libs\\__init__.py:17\u001b[0m\n\u001b[0;32m     16\u001b[0m \u001b[38;5;28;01mimport\u001b[39;00m\u001b[38;5;250m \u001b[39m\u001b[38;5;21;01mpandas\u001b[39;00m\u001b[38;5;21;01m.\u001b[39;00m\u001b[38;5;21;01m_libs\u001b[39;00m\u001b[38;5;21;01m.\u001b[39;00m\u001b[38;5;21;01mpandas_parser\u001b[39;00m  \u001b[38;5;66;03m# isort: skip # type: ignore[reportUnusedImport]\u001b[39;00m\n\u001b[1;32m---> 17\u001b[0m \u001b[38;5;28;01mimport\u001b[39;00m\u001b[38;5;250m \u001b[39m\u001b[38;5;21;01mpandas\u001b[39;00m\u001b[38;5;21;01m.\u001b[39;00m\u001b[38;5;21;01m_libs\u001b[39;00m\u001b[38;5;21;01m.\u001b[39;00m\u001b[38;5;21;01mpandas_datetime\u001b[39;00m  \u001b[38;5;66;03m# noqa: F401 # isort: skip # type: ignore[reportUnusedImport]\u001b[39;00m\n\u001b[0;32m     18\u001b[0m \u001b[38;5;28;01mfrom\u001b[39;00m\u001b[38;5;250m \u001b[39m\u001b[38;5;21;01mpandas\u001b[39;00m\u001b[38;5;21;01m.\u001b[39;00m\u001b[38;5;21;01m_libs\u001b[39;00m\u001b[38;5;21;01m.\u001b[39;00m\u001b[38;5;21;01minterval\u001b[39;00m\u001b[38;5;250m \u001b[39m\u001b[38;5;28;01mimport\u001b[39;00m Interval\n",
            "\u001b[1;31mImportError\u001b[0m: numpy.core.multiarray failed to import",
            "\nDuring handling of the above exception, another exception occurred:\n",
            "\u001b[1;31mException\u001b[0m                                 Traceback (most recent call last)",
            "Cell \u001b[1;32mIn[16], line 1\u001b[0m\n\u001b[1;32m----> 1\u001b[0m \u001b[38;5;28;01mimport\u001b[39;00m\u001b[38;5;250m \u001b[39m\u001b[38;5;21;01mgeoai\u001b[39;00m\n",
            "File \u001b[1;32mE:\\anaconda\\Lib\\site-packages\\geoai\\__init__.py:102\u001b[0m\n\u001b[0;32m     96\u001b[0m         \u001b[38;5;28;01mreturn\u001b[39;00m\n\u001b[0;32m     99\u001b[0m \u001b[38;5;66;03m# if (\"google.colab\" not in sys.modules) and (sys.platform != \"windows\"):\u001b[39;00m\n\u001b[0;32m    100\u001b[0m \u001b[38;5;66;03m#     set_proj_lib_path()\u001b[39;00m\n\u001b[1;32m--> 102\u001b[0m \u001b[38;5;28;01mfrom\u001b[39;00m\u001b[38;5;250m \u001b[39m\u001b[38;5;21;01m.\u001b[39;00m\u001b[38;5;21;01mgeoai\u001b[39;00m\u001b[38;5;250m \u001b[39m\u001b[38;5;28;01mimport\u001b[39;00m \u001b[38;5;241m*\u001b[39m\n",
            "File \u001b[1;32mE:\\anaconda\\Lib\\site-packages\\geoai\\geoai.py:7\u001b[0m\n\u001b[0;32m      3\u001b[0m \u001b[38;5;28;01mimport\u001b[39;00m\u001b[38;5;250m \u001b[39m\u001b[38;5;21;01mlogging\u001b[39;00m\n\u001b[0;32m      5\u001b[0m logging\u001b[38;5;241m.\u001b[39mgetLogger(\u001b[38;5;124m\"\u001b[39m\u001b[38;5;124mmaplibre\u001b[39m\u001b[38;5;124m\"\u001b[39m)\u001b[38;5;241m.\u001b[39msetLevel(logging\u001b[38;5;241m.\u001b[39mERROR)\n\u001b[1;32m----> 7\u001b[0m \u001b[38;5;28;01mimport\u001b[39;00m\u001b[38;5;250m \u001b[39m\u001b[38;5;21;01mleafmap\u001b[39;00m\n\u001b[0;32m      8\u001b[0m \u001b[38;5;28;01mimport\u001b[39;00m\u001b[38;5;250m \u001b[39m\u001b[38;5;21;01mleafmap\u001b[39;00m\u001b[38;5;21;01m.\u001b[39;00m\u001b[38;5;21;01mmaplibregl\u001b[39;00m\u001b[38;5;250m \u001b[39m\u001b[38;5;28;01mas\u001b[39;00m\u001b[38;5;250m \u001b[39m\u001b[38;5;21;01mmaplibregl\u001b[39;00m\n\u001b[0;32m     10\u001b[0m \u001b[38;5;28;01mfrom\u001b[39;00m\u001b[38;5;250m \u001b[39m\u001b[38;5;21;01m.\u001b[39;00m\u001b[38;5;21;01mclassify\u001b[39;00m\u001b[38;5;250m \u001b[39m\u001b[38;5;28;01mimport\u001b[39;00m classify_image, classify_images, train_classifier\n",
            "File \u001b[1;32mE:\\anaconda\\Lib\\site-packages\\leafmap\\__init__.py:152\u001b[0m\n\u001b[0;32m    148\u001b[0m \u001b[38;5;28;01melse\u001b[39;00m:\n\u001b[0;32m    149\u001b[0m     \u001b[38;5;28mprint\u001b[39m(\n\u001b[0;32m    150\u001b[0m         \u001b[38;5;124m\"\u001b[39m\u001b[38;5;124mPlease restart Jupyter kernel after installation if you encounter any errors when importing leafmap.\u001b[39m\u001b[38;5;124m\"\u001b[39m\n\u001b[0;32m    151\u001b[0m     )\n\u001b[1;32m--> 152\u001b[0m \u001b[38;5;28;01mraise\u001b[39;00m \u001b[38;5;167;01mException\u001b[39;00m(e)\n",
            "\u001b[1;31mException\u001b[0m: numpy.core.multiarray failed to import"
          ]
        }
      ],
      "source": [
        "import geoai"
      ]
    },
    {
      "cell_type": "markdown",
      "metadata": {
        "id": "BBSkvrgXlg_2"
      },
      "source": [
        "## Download sample data"
      ]
    },
    {
      "cell_type": "code",
      "execution_count": null,
      "metadata": {
        "id": "y1b1nFE0lg_2"
      },
      "outputs": [],
      "source": [
        "raster_url = (\n",
        "    \"/26setembro_new/img_amostra/rec2526.tif\"\n",
        ")\n",
        "vector_url = \"/26setembro_new/json/casas_26setembro.geojson\""
      ]
    },
    {
      "cell_type": "code",
      "execution_count": null,
      "metadata": {
        "id": "eZtRdSAylg_2"
      },
      "outputs": [],
      "source": [
        "raster_path = geoai.download_file(raster_url)"
      ]
    },
    {
      "cell_type": "code",
      "execution_count": null,
      "metadata": {
        "id": "KVMumfCylg_3"
      },
      "outputs": [],
      "source": [
        "vector_path = geoai.download_file(vector_url)"
      ]
    },
    {
      "cell_type": "markdown",
      "metadata": {
        "id": "pYKUlpC6lg_3"
      },
      "source": [
        "## Initialize building footprint extraction pretrained model"
      ]
    },
    {
      "cell_type": "code",
      "execution_count": null,
      "metadata": {
        "id": "iVgjD-edlg_4"
      },
      "outputs": [],
      "source": [
        "extractor = geoai.BuildingFootprintExtractor()"
      ]
    },
    {
      "cell_type": "markdown",
      "metadata": {
        "id": "b2D7cVfilg_4"
      },
      "source": [
        "## Extract building footprints\n",
        "\n",
        "### Option 1: Extract building footprints as raster"
      ]
    },
    {
      "cell_type": "code",
      "execution_count": null,
      "metadata": {
        "id": "DnLSUrURlg_4"
      },
      "outputs": [],
      "source": [
        "mask_path = extractor.save_masks_as_geotiff(\n",
        "    raster_path=raster_path,\n",
        "    output_path=\"building_masks.tif\",\n",
        "    confidence_threshold=0.5,\n",
        "    mask_threshold=0.5,\n",
        ")"
      ]
    },
    {
      "cell_type": "markdown",
      "metadata": {
        "id": "4UkfL7yElg_4"
      },
      "source": [
        "Convert raster to vector"
      ]
    },
    {
      "cell_type": "code",
      "execution_count": null,
      "metadata": {
        "id": "eyKa6Olflg_4"
      },
      "outputs": [],
      "source": [
        "gdf = extractor.masks_to_vector(\n",
        "    mask_path=mask_path,\n",
        "    output_path=\"building_masks.geojson\",\n",
        "    simplify_tolerance=1.0,\n",
        ")"
      ]
    },
    {
      "cell_type": "markdown",
      "metadata": {
        "id": "j8zY6tIJlg_5"
      },
      "source": [
        "### Option 2: Extract building footprints as vector"
      ]
    },
    {
      "cell_type": "code",
      "execution_count": null,
      "metadata": {
        "id": "mnAi_D6Zlg_5"
      },
      "outputs": [],
      "source": [
        "output_path = \"naip_buildings.geojson\"\n",
        "gdf = extractor.process_raster(\n",
        "    raster_path,\n",
        "    output_path=\"buildings.geojson\",\n",
        "    batch_size=4,\n",
        "    confidence_threshold=0.5,\n",
        "    overlap=0.25,\n",
        "    nms_iou_threshold=0.5,\n",
        "    min_object_area=100,\n",
        "    max_object_area=None,\n",
        "    mask_threshold=0.5,\n",
        "    simplify_tolerance=1.0,\n",
        ")"
      ]
    },
    {
      "cell_type": "markdown",
      "metadata": {
        "id": "Wtbr0-lDlg_5"
      },
      "source": [
        "## Regularize building footprints"
      ]
    },
    {
      "cell_type": "code",
      "execution_count": null,
      "metadata": {
        "id": "dINACphLlg_5"
      },
      "outputs": [],
      "source": [
        "gdf_regularized = extractor.regularize_buildings(\n",
        "    gdf=gdf,\n",
        "    min_area=100,\n",
        "    angle_threshold=15,\n",
        "    orthogonality_threshold=0.3,\n",
        "    rectangularity_threshold=0.7,\n",
        ")"
      ]
    },
    {
      "cell_type": "markdown",
      "metadata": {
        "id": "K5NICmNUlg_5"
      },
      "source": [
        "## Visualize building footprints"
      ]
    },
    {
      "cell_type": "code",
      "execution_count": null,
      "metadata": {
        "id": "_ycquQlQlg_6"
      },
      "outputs": [],
      "source": [
        "gdf.head()"
      ]
    },
    {
      "cell_type": "code",
      "execution_count": null,
      "metadata": {
        "id": "fCcU0nErlg_6"
      },
      "outputs": [],
      "source": [
        "geoai.view_vector_interactive(\n",
        "    gdf, column=\"confidence\", layer_name=\"Building\", tiles=\"Satellite\"\n",
        ")"
      ]
    },
    {
      "cell_type": "code",
      "execution_count": null,
      "metadata": {
        "id": "qvX9b9xjlg_6"
      },
      "outputs": [],
      "source": [
        "geoai.view_vector_interactive(\n",
        "    gdf, column=\"confidence\", layer_name=\"Building\", tiles=raster_url\n",
        ")"
      ]
    },
    {
      "cell_type": "code",
      "execution_count": null,
      "metadata": {
        "id": "VENSBKyjlg_6"
      },
      "outputs": [],
      "source": [
        "geoai.view_vector_interactive(\n",
        "    gdf_regularized, column=\"confidence\", layer_name=\"Building\", tiles=raster_url\n",
        ")"
      ]
    },
    {
      "cell_type": "code",
      "execution_count": null,
      "metadata": {
        "id": "EqH6W6fjlg_6"
      },
      "outputs": [],
      "source": [
        "extractor.visualize_results(raster_path, gdf, output_path=\"naip_buildings.png\")"
      ]
    },
    {
      "cell_type": "code",
      "execution_count": null,
      "metadata": {
        "id": "w9Zr11zPlg_6"
      },
      "outputs": [],
      "source": [
        "extractor.visualize_results(\n",
        "    raster_path, gdf_regularized, output_path=\"naip_buildings_regularized.png\"\n",
        ")"
      ]
    }
  ],
  "metadata": {
    "kernelspec": {
      "display_name": "geo",
      "language": "python",
      "name": "python3"
    },
    "language_info": {
      "codemirror_mode": {
        "name": "ipython",
        "version": 3
      },
      "file_extension": ".py",
      "mimetype": "text/x-python",
      "name": "python",
      "nbconvert_exporter": "python",
      "pygments_lexer": "ipython3",
      "version": "3.12.2"
    },
    "colab": {
      "provenance": []
    }
  },
  "nbformat": 4,
  "nbformat_minor": 0
}